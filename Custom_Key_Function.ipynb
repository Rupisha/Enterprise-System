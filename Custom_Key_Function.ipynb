{
  "nbformat": 4,
  "nbformat_minor": 0,
  "metadata": {
    "colab": {
      "provenance": []
    },
    "kernelspec": {
      "name": "python3",
      "display_name": "Python 3"
    },
    "language_info": {
      "name": "python"
    }
  },
  "cells": [
    {
      "cell_type": "code",
      "execution_count": 1,
      "metadata": {
        "colab": {
          "base_uri": "https://localhost:8080/"
        },
        "id": "GuGkTjOvm0Lr",
        "outputId": "eda647e6-f55b-45ed-a6aa-e307c8b6aa68"
      },
      "outputs": [
        {
          "output_type": "stream",
          "name": "stdout",
          "text": [
            "[4, 6, 8, 18, 23, 30]\n"
          ]
        }
      ],
      "source": [
        "d = [6, 8, 4, 30, 18, 23]\n",
        "print(sorted(d, key = abs))"
      ]
    },
    {
      "cell_type": "code",
      "source": [
        "data = [[3, 6, 8], [10, 4, 9], [4, 12,26], [23, 6, 11]]\n",
        "\n",
        "def avg(data):\n",
        "  return sum(data) / len(data)\n",
        "\n",
        "print(sorted(data, key = avg))"
      ],
      "metadata": {
        "colab": {
          "base_uri": "https://localhost:8080/"
        },
        "id": "fAr7nRZrn8KN",
        "outputId": "0caa3cfd-5afb-4a26-cc53-3059d147b754"
      },
      "execution_count": 2,
      "outputs": [
        {
          "output_type": "stream",
          "name": "stdout",
          "text": [
            "[[3, 6, 8], [10, 4, 9], [23, 6, 11], [4, 12, 26]]\n"
          ]
        }
      ]
    }
  ]
}